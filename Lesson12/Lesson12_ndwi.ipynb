{
 "metadata": {
  "name": "",
  "signature": "sha256:019f1e21e90ca0fa9f6b522ca18732c881c02159929624e7a9cffc818a33047a"
 },
 "nbformat": 3,
 "nbformat_minor": 0,
 "worksheets": [
  {
   "cells": [
    {
     "cell_type": "heading",
     "level": 1,
     "metadata": {},
     "source": [
      "NDWI calculation from Landsat 8"
     ]
    },
    {
     "cell_type": "markdown",
     "metadata": {},
     "source": [
      "# import modules"
     ]
    },
    {
     "cell_type": "code",
     "collapsed": false,
     "input": [
      "%matplotlib inline\n",
      "\n",
      "from osgeo import gdal\n",
      "from osgeo.gdalconst import GA_ReadOnly, GDT_Float32\n",
      "import numpy as np\n",
      "import subprocess\n",
      "import os\n",
      "import matplotlib\n",
      "import matplotlib.pyplot as plt"
     ],
     "language": "python",
     "metadata": {},
     "outputs": [],
     "prompt_number": 33
    },
    {
     "cell_type": "markdown",
     "metadata": {},
     "source": [
      "# open files"
     ]
    },
    {
     "cell_type": "code",
     "collapsed": false,
     "input": [
      "os.chdir('/home/ubuntu/Python/Lesson12')\n",
      "band5 = gdal.Open('../Lesson12/data/LC81980242014260LGN00_sr_band5.tif', GA_ReadOnly)\n",
      "band3 = gdal.Open('../Lesson12/data/LC81980242014260LGN00_sr_band3.tif', GA_ReadOnly)"
     ],
     "language": "python",
     "metadata": {},
     "outputs": [],
     "prompt_number": 34
    },
    {
     "cell_type": "markdown",
     "metadata": {},
     "source": [
      "# create numpy array from .tif files, set data type and mask"
     ]
    },
    {
     "cell_type": "code",
     "collapsed": false,
     "input": [
      "band3Arr = band3.GetRasterBand(1).ReadAsArray(0,0,band3.RasterXSize, band3.RasterYSize)\n",
      "band5Arr = band5.GetRasterBand(1).ReadAsArray(0,0,band5.RasterXSize, band5.RasterYSize)\n",
      "\n",
      "band3Arr=band3Arr.astype(np.float32)\n",
      "band5Arr=band5Arr.astype(np.float32)\n",
      "\n",
      "mask = np.greater(band3Arr+band5Arr,0)\n"
     ],
     "language": "python",
     "metadata": {},
     "outputs": [],
     "prompt_number": 35
    },
    {
     "cell_type": "markdown",
     "metadata": {},
     "source": [
      "# Calculate NDWI"
     ]
    },
    {
     "cell_type": "code",
     "collapsed": false,
     "input": [
      "with np.errstate(invalid='ignore'):\n",
      "    ndwi = np.choose(mask,(-99,(band3Arr-band5Arr)/(band3Arr+band5Arr)))\n",
      "    \n",
      "# Check min and max values\n",
      "print \"WDVI min and max values: \", ndwi.min(), ndwi.max()\n",
      "\n",
      "# Check the real minimum value\n",
      "print ndwi[ndwi>-99].min()"
     ],
     "language": "python",
     "metadata": {},
     "outputs": [
      {
       "output_type": "stream",
       "stream": "stdout",
       "text": [
        "WDVI min and max values:  "
       ]
      },
      {
       "output_type": "stream",
       "stream": "stdout",
       "text": [
        "-99.0 "
       ]
      },
      {
       "output_type": "stream",
       "stream": "stdout",
       "text": [
        "6.43478\n",
        "-5.28399"
       ]
      },
      {
       "output_type": "stream",
       "stream": "stdout",
       "text": [
        "\n"
       ]
      }
     ],
     "prompt_number": 36
    },
    {
     "cell_type": "markdown",
     "metadata": {},
     "source": [
      "# Write the result to disk"
     ]
    },
    {
     "cell_type": "code",
     "collapsed": false,
     "input": [
      "driver = gdal.GetDriverByName('GTiff')\n",
      "outDataSet=driver.Create('../Lesson12/ndwi.tif', band5.RasterXSize, band5.RasterYSize, 1, GDT_Float32)\n",
      "outBand = outDataSet.GetRasterBand(1)\n",
      "outBand.WriteArray(ndwi,0,0)\n",
      "outBand.SetNoDataValue(-99)\n",
      "\n",
      "outDataSet.SetProjection(band3.GetProjection())\n",
      "outDataSet.SetGeoTransform(band5.GetGeoTransform())\n",
      "# FSave file\n",
      "outBand.FlushCache()\n",
      "outDataSet.FlushCache()"
     ],
     "language": "python",
     "metadata": {},
     "outputs": [],
     "prompt_number": 37
    },
    {
     "cell_type": "markdown",
     "metadata": {},
     "source": [
      "# Reproject to Lat/Long WGS84"
     ]
    },
    {
     "cell_type": "code",
     "collapsed": false,
     "input": [
      "subprocess.call([\"gdalinfo\", \"../Lesson12/ndwi.tif\"])\n",
      "subprocess.call([\"gdalwarp\", \"-t_srs\", \"EPSG:4326\", \"../Lesson12/ndwi.tif\", \"../Lesson12/ndwi_reproject.tif\"])\n",
      "\n",
      "# Check what the result is\n",
      "subprocess.call([\"gdalinfo\", \"../Lesson12/ndwi_reproject.tif\"])"
     ],
     "language": "python",
     "metadata": {},
     "outputs": [
      {
       "metadata": {},
       "output_type": "pyout",
       "prompt_number": 38,
       "text": [
        "0"
       ]
      }
     ],
     "prompt_number": 38
    },
    {
     "cell_type": "markdown",
     "metadata": {},
     "source": [
      "# Plot the result"
     ]
    },
    {
     "cell_type": "code",
     "collapsed": false,
     "input": [
      "dsll = gdal.Open(\"../Lesson12/ndwi_reproject.tif\")\n",
      "\n",
      "# Read raster data\n",
      "ndwi_img = dsll.ReadAsArray(0, 0, dsll.RasterXSize, dsll.RasterYSize)\n",
      "\n",
      "# Now plot the raster data using gist_earth palette\n",
      "\n",
      "plt.imshow(ndwi_img, interpolation='nearest', vmin=0, clim=(-1, 2))\n",
      "plt.show()\n",
      "\n",
      "dsll = None"
     ],
     "language": "python",
     "metadata": {},
     "outputs": [
      {
       "metadata": {},
       "output_type": "display_data",
       "png": "[encoded data removed]",
       "text": [
        "<matplotlib.figure.Figure at 0x7fa6e9824f50>"
       ]
      }
     ],
     "prompt_number": 39
    },
    {
     "cell_type": "code",
     "collapsed": false,
     "input": [],
     "language": "python",
     "metadata": {},
     "outputs": [],
     "prompt_number": 39
    },
    {
     "cell_type": "code",
     "collapsed": false,
     "input": [],
     "language": "python",
     "metadata": {},
     "outputs": []
    }
   ],
   "metadata": {}
  }
 ]
}