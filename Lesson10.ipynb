{
 "metadata": {
  "name": "",
  "signature": "sha256:0e06abd871b6916ccb56e27235bfc701117f130b23157dfcbcc249c58a0a5a38"
 },
 "nbformat": 3,
 "nbformat_minor": 0,
 "worksheets": [
  {
   "cells": [
    {
     "cell_type": "heading",
     "level": 1,
     "metadata": {},
     "source": [
      "libraries"
     ]
    },
    {
     "cell_type": "code",
     "collapsed": false,
     "input": [
      "from osgeo import ogr,osr\n",
      "import folium\n",
      "import os\n"
     ],
     "language": "python",
     "metadata": {},
     "outputs": []
    },
    {
     "cell_type": "heading",
     "level": 1,
     "metadata": {},
     "source": [
      "The script"
     ]
    },
    {
     "cell_type": "code",
     "collapsed": false,
     "input": [
      "# os.chdir('pathtoyourworkingdirectory')\n",
      "\n",
      "# Create shape file\n",
      "fn = \"points_wageningen.kml\"\n",
      "layername = \"wageningen\"\n",
      "driverName = \"KML\"\n",
      "drv = ogr.GetDriverByName( driverName )\n",
      "ds = drv.CreateDataSource(fn)\n",
      "\n",
      "# Set spatial reference\n",
      "spatialReference = osr.SpatialReference()\n",
      "spatialReference.ImportFromProj4('+proj=longlat +ellps=WGS84 +datum=WGS84 +no_defs')\n",
      "\n",
      "# Create Layer\n",
      "layer=ds.CreateLayer(layername, spatialReference, ogr.wkbPoint)\n",
      "\n",
      "## Create points\n",
      "point1 = ogr.Geometry(ogr.wkbPoint)\n",
      "point2 = ogr.Geometry(ogr.wkbPoint)\n",
      "\n",
      "## SetPoint(self, int point, double x, double y, double z = 0)\n",
      "point1.SetPoint(0,5.665947,51.987512) # gaia\n",
      "point2.SetPoint(0,5.668371,51.982170) # de bongerd\n",
      "\n",
      "layerDefinition = layer.GetLayerDefn()\n",
      "feature1 = ogr.Feature(layerDefinition)\n",
      "feature2 = ogr.Feature(layerDefinition)\n",
      "\n",
      "## Add points to the feature\n",
      "feature1.SetGeometry(point1)\n",
      "feature2.SetGeometry(point2)\n",
      "\n",
      "## Store the feature in a layer\n",
      "layer.CreateFeature(feature1)\n",
      "layer.CreateFeature(feature2)\n",
      "ds.Destroy()\n",
      "\n",
      "#ogr2ogr -f GeoJSON -t_srs crs:84 points.geojson points_wageningen.shp\n",
      "\n",
      "bashCommand = \"ogr2ogr -f GeoJSON -t_srs crs:84 points.geojson points_wageningen.kml\"\n",
      "import subprocess\n",
      "process = subprocess.Popen(bashCommand.split(), stdout=subprocess.PIPE)\n",
      "output, error = process.communicate()\n",
      "\n",
      "pointsGeo=os.path.join(\"points.geojson\")\n",
      "map_points = folium.Map(location=[52,5.7],tiles='Mapbox Bright', zoom_start=10)\n",
      "map_points.choropleth(geo_path=pointsGeo)\n",
      "map_points.save('points_wageningen.html')\n",
      "\n"
     ],
     "language": "python",
     "metadata": {},
     "outputs": []
    },
    {
     "cell_type": "markdown",
     "metadata": {},
     "source": [
      "If you run the script, a .kml file and .HTML file is created and saved in the 'Python' folder. "
     ]
    },
    {
     "cell_type": "markdown",
     "metadata": {},
     "source": [
      "Bram Schipper and Bas Wiltenburg"
     ]
    }
   ],
   "metadata": {}
  }
 ]
}